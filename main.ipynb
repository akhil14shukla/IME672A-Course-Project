{
  "nbformat": 4,
  "nbformat_minor": 0,
  "metadata": {
    "colab": {
      "name": "IME672A.ipynb",
      "provenance": [],
      "authorship_tag": "ABX9TyO/ZhQnupHrrx14Pt2pLeob",
      "include_colab_link": true
    },
    "kernelspec": {
      "name": "python3",
      "display_name": "Python 3.8.10 64-bit"
    },
    "language_info": {
      "name": "python",
      "version": "3.8.10"
    },
    "interpreter": {
      "hash": "916dbcbb3f70747c44a77c7bcd40155683ae19c65e1c03b4aa3499c5328201f1"
    }
  },
  "cells": [
    {
      "cell_type": "markdown",
      "metadata": {
        "id": "view-in-github",
        "colab_type": "text"
      },
      "source": [
        "<a href=\"https://colab.research.google.com/github/akhil14shukla/IME672A-Course-Project/blob/master/main.ipynb\" target=\"_parent\"><img src=\"https://colab.research.google.com/assets/colab-badge.svg\" alt=\"Open In Colab\"/></a>"
      ]
    },
    {
      "source": [
        "Importing the required libraries"
      ],
      "cell_type": "markdown",
      "metadata": {}
    },
    {
      "cell_type": "code",
      "metadata": {
        "id": "urNG6OnUV2qV"
      },
      "source": [
        "import pandas as pd\n",
        "import numpy as np\n",
        "from sklearn.preprocessing import *\n",
        "import seaborn as sns\n",
        "import matplotlib.pyplot as plt\n",
        "from sklearn.feature_extraction import c "
      ],
      "execution_count": 1,
      "outputs": []
    },
    {
      "source": [
        "Taking csv data as input"
      ],
      "cell_type": "markdown",
      "metadata": {}
    },
    {
      "cell_type": "code",
      "metadata": {
        "id": "05CTTb5wWKGQ"
      },
      "source": [
        "df = pd.read_csv(\"https://raw.githubusercontent.com/akhil14shukla/IME672A-Course-Project/master/hmeq.csv\")"
      ],
      "execution_count": 2,
      "outputs": []
    },
    {
      "cell_type": "code",
      "metadata": {
        "colab": {
          "base_uri": "https://localhost:8080/",
          "height": 1000
        },
        "id": "MykMKGbbWM--",
        "outputId": "bc91ee9a-25b3-480a-bb3a-de1377414d43"
      },
      "source": [
        "# sns.pairplot(df)"
      ],
      "execution_count": null,
      "outputs": []
    },
    {
      "source": [
        "Understanding the Data"
      ],
      "cell_type": "markdown",
      "metadata": {}
    },
    {
      "cell_type": "code",
      "execution_count": 8,
      "metadata": {},
      "outputs": [
        {
          "output_type": "stream",
          "name": "stdout",
          "text": [
            "      BAD   LOAN  MORTDUE     VALUE   REASON     JOB   YOJ  DEROG  DELINQ  \\\n0       1   1100  25860.0   39025.0  HomeImp   Other  10.5    0.0     0.0   \n1       1   1300  70053.0   68400.0  HomeImp   Other   7.0    0.0     2.0   \n2       1   1500  13500.0   16700.0  HomeImp   Other   4.0    0.0     0.0   \n3       1   1500      NaN       NaN      NaN     NaN   NaN    NaN     NaN   \n4       0   1700  97800.0  112000.0  HomeImp  Office   3.0    0.0     0.0   \n...   ...    ...      ...       ...      ...     ...   ...    ...     ...   \n5955    0  88900  57264.0   90185.0  DebtCon   Other  16.0    0.0     0.0   \n5956    0  89000  54576.0   92937.0  DebtCon   Other  16.0    0.0     0.0   \n5957    0  89200  54045.0   92924.0  DebtCon   Other  15.0    0.0     0.0   \n5958    0  89800  50370.0   91861.0  DebtCon   Other  14.0    0.0     0.0   \n5959    0  89900  48811.0   88934.0  DebtCon   Other  15.0    0.0     0.0   \n\n           CLAGE  NINQ  CLNO    DEBTINC  \n0      94.366667   1.0   9.0        NaN  \n1     121.833333   0.0  14.0        NaN  \n2     149.466667   1.0  10.0        NaN  \n3            NaN   NaN   NaN        NaN  \n4      93.333333   0.0  14.0        NaN  \n...          ...   ...   ...        ...  \n5955  221.808718   0.0  16.0  36.112347  \n5956  208.692070   0.0  15.0  35.859971  \n5957  212.279697   0.0  15.0  35.556590  \n5958  213.892709   0.0  16.0  34.340882  \n5959  219.601002   0.0  16.0  34.571519  \n\n[5960 rows x 13 columns]\n"
          ]
        }
      ],
      "source": [
        "print(df)"
      ]
    },
    {
      "cell_type": "code",
      "metadata": {
        "colab": {
          "base_uri": "https://localhost:8080/"
        },
        "id": "hgrHZeeQWPIv",
        "outputId": "0cad68a7-7f4e-4fb3-b647-9d20678f0747"
      },
      "source": [
        "# Calculating the number of missing values in each attributes\n",
        "print(df.isna().sum())\n",
        "# Number of rows/tuples where more than 3 attributes are missing\n",
        "sum((df.isna().sum(axis=1))>3)"
      ],
      "execution_count": 41,
      "outputs": [
        {
          "output_type": "stream",
          "name": "stdout",
          "text": [
            "BAD           0\nLOAN          0\nMORTDUE     518\nVALUE       112\nREASON      252\nJOB         279\nYOJ         515\nDEROG       708\nDELINQ      580\nCLAGE       308\nNINQ        510\nCLNO        222\nDEBTINC    1267\ndtype: int64\n"
          ]
        },
        {
          "output_type": "execute_result",
          "data": {
            "text/plain": [
              "339"
            ]
          },
          "metadata": {},
          "execution_count": 41
        }
      ]
    },
    {
      "source": [
        "We can consider those tuples where more than 3 attributes are missing"
      ],
      "cell_type": "markdown",
      "metadata": {}
    },
    {
      "source": [
        "Reason/Meaning of null values in dataset, and how we will fill these:<br><br>\n",
        "REASON - This shows the reason why the person is taking the loan. There are two available values : Debt consolidation and Home Improvement. Thus, missing value must denote that the reason was other than the two available options. So, we will fill the null values with _\"Other reasons\"_."
      ],
      "cell_type": "markdown",
      "metadata": {}
    },
    {
      "cell_type": "code",
      "metadata": {
        "colab": {
          "base_uri": "https://localhost:8080/",
          "height": 402
        },
        "id": "CeOfgu8hWg9R",
        "outputId": "2381f908-ceed-4d3a-c806-848e10471aa3"
      },
      "source": [
        "df[df[\"MORTDUE\"].isna()]"
      ],
      "execution_count": 14,
      "outputs": [
        {
          "output_type": "execute_result",
          "data": {
            "text/plain": [
              "      BAD   LOAN  MORTDUE    VALUE   REASON    JOB   YOJ  DEROG  DELINQ  \\\n",
              "3       1   1500      NaN      NaN      NaN    NaN   NaN    NaN     NaN   \n",
              "9       1   2000      NaN  62250.0  HomeImp  Sales  16.0    0.0     0.0   \n",
              "24      1   2400      NaN  17180.0  HomeImp  Other   NaN    0.0     0.0   \n",
              "40      1   3000      NaN   8800.0  HomeImp  Other   2.0    0.0     1.0   \n",
              "41      1   3000      NaN  33000.0  HomeImp  Other   1.0    0.0     1.0   \n",
              "...   ...    ...      ...      ...      ...    ...   ...    ...     ...   \n",
              "5880    0  53700      NaN  84205.0  HomeImp  Other   NaN    0.0     0.0   \n",
              "5883    0  53800      NaN  81322.0  HomeImp   Self   9.0    0.0     0.0   \n",
              "5884    0  53900      NaN  91309.0  HomeImp  Other   NaN    0.0     0.0   \n",
              "5930    1  72300      NaN  85000.0  DebtCon  Other   1.0    0.0     0.0   \n",
              "5931    1  75400      NaN  89609.0  DebtCon  Other   1.0    0.0     0.0   \n",
              "\n",
              "           CLAGE  NINQ  CLNO    DEBTINC  \n",
              "3            NaN   NaN   NaN        NaN  \n",
              "9     115.800000   0.0  13.0        NaN  \n",
              "24     14.566667   3.0   4.0        NaN  \n",
              "40     77.766667   0.0   3.0        NaN  \n",
              "41     23.300000   1.0   2.0        NaN  \n",
              "...          ...   ...   ...        ...  \n",
              "5880  339.665615   0.0   7.0  22.639940  \n",
              "5883  171.447555   0.0  22.0  24.709060  \n",
              "5884  349.795748   0.0   6.0  22.061330  \n",
              "5930  117.166667   9.0  23.0        NaN  \n",
              "5931  115.763534   9.0  23.0  41.105569  \n",
              "\n",
              "[518 rows x 13 columns]"
            ],
            "text/html": "<div>\n<style scoped>\n    .dataframe tbody tr th:only-of-type {\n        vertical-align: middle;\n    }\n\n    .dataframe tbody tr th {\n        vertical-align: top;\n    }\n\n    .dataframe thead th {\n        text-align: right;\n    }\n</style>\n<table border=\"1\" class=\"dataframe\">\n  <thead>\n    <tr style=\"text-align: right;\">\n      <th></th>\n      <th>BAD</th>\n      <th>LOAN</th>\n      <th>MORTDUE</th>\n      <th>VALUE</th>\n      <th>REASON</th>\n      <th>JOB</th>\n      <th>YOJ</th>\n      <th>DEROG</th>\n      <th>DELINQ</th>\n      <th>CLAGE</th>\n      <th>NINQ</th>\n      <th>CLNO</th>\n      <th>DEBTINC</th>\n    </tr>\n  </thead>\n  <tbody>\n    <tr>\n      <th>3</th>\n      <td>1</td>\n      <td>1500</td>\n      <td>NaN</td>\n      <td>NaN</td>\n      <td>NaN</td>\n      <td>NaN</td>\n      <td>NaN</td>\n      <td>NaN</td>\n      <td>NaN</td>\n      <td>NaN</td>\n      <td>NaN</td>\n      <td>NaN</td>\n      <td>NaN</td>\n    </tr>\n    <tr>\n      <th>9</th>\n      <td>1</td>\n      <td>2000</td>\n      <td>NaN</td>\n      <td>62250.0</td>\n      <td>HomeImp</td>\n      <td>Sales</td>\n      <td>16.0</td>\n      <td>0.0</td>\n      <td>0.0</td>\n      <td>115.800000</td>\n      <td>0.0</td>\n      <td>13.0</td>\n      <td>NaN</td>\n    </tr>\n    <tr>\n      <th>24</th>\n      <td>1</td>\n      <td>2400</td>\n      <td>NaN</td>\n      <td>17180.0</td>\n      <td>HomeImp</td>\n      <td>Other</td>\n      <td>NaN</td>\n      <td>0.0</td>\n      <td>0.0</td>\n      <td>14.566667</td>\n      <td>3.0</td>\n      <td>4.0</td>\n      <td>NaN</td>\n    </tr>\n    <tr>\n      <th>40</th>\n      <td>1</td>\n      <td>3000</td>\n      <td>NaN</td>\n      <td>8800.0</td>\n      <td>HomeImp</td>\n      <td>Other</td>\n      <td>2.0</td>\n      <td>0.0</td>\n      <td>1.0</td>\n      <td>77.766667</td>\n      <td>0.0</td>\n      <td>3.0</td>\n      <td>NaN</td>\n    </tr>\n    <tr>\n      <th>41</th>\n      <td>1</td>\n      <td>3000</td>\n      <td>NaN</td>\n      <td>33000.0</td>\n      <td>HomeImp</td>\n      <td>Other</td>\n      <td>1.0</td>\n      <td>0.0</td>\n      <td>1.0</td>\n      <td>23.300000</td>\n      <td>1.0</td>\n      <td>2.0</td>\n      <td>NaN</td>\n    </tr>\n    <tr>\n      <th>...</th>\n      <td>...</td>\n      <td>...</td>\n      <td>...</td>\n      <td>...</td>\n      <td>...</td>\n      <td>...</td>\n      <td>...</td>\n      <td>...</td>\n      <td>...</td>\n      <td>...</td>\n      <td>...</td>\n      <td>...</td>\n      <td>...</td>\n    </tr>\n    <tr>\n      <th>5880</th>\n      <td>0</td>\n      <td>53700</td>\n      <td>NaN</td>\n      <td>84205.0</td>\n      <td>HomeImp</td>\n      <td>Other</td>\n      <td>NaN</td>\n      <td>0.0</td>\n      <td>0.0</td>\n      <td>339.665615</td>\n      <td>0.0</td>\n      <td>7.0</td>\n      <td>22.639940</td>\n    </tr>\n    <tr>\n      <th>5883</th>\n      <td>0</td>\n      <td>53800</td>\n      <td>NaN</td>\n      <td>81322.0</td>\n      <td>HomeImp</td>\n      <td>Self</td>\n      <td>9.0</td>\n      <td>0.0</td>\n      <td>0.0</td>\n      <td>171.447555</td>\n      <td>0.0</td>\n      <td>22.0</td>\n      <td>24.709060</td>\n    </tr>\n    <tr>\n      <th>5884</th>\n      <td>0</td>\n      <td>53900</td>\n      <td>NaN</td>\n      <td>91309.0</td>\n      <td>HomeImp</td>\n      <td>Other</td>\n      <td>NaN</td>\n      <td>0.0</td>\n      <td>0.0</td>\n      <td>349.795748</td>\n      <td>0.0</td>\n      <td>6.0</td>\n      <td>22.061330</td>\n    </tr>\n    <tr>\n      <th>5930</th>\n      <td>1</td>\n      <td>72300</td>\n      <td>NaN</td>\n      <td>85000.0</td>\n      <td>DebtCon</td>\n      <td>Other</td>\n      <td>1.0</td>\n      <td>0.0</td>\n      <td>0.0</td>\n      <td>117.166667</td>\n      <td>9.0</td>\n      <td>23.0</td>\n      <td>NaN</td>\n    </tr>\n    <tr>\n      <th>5931</th>\n      <td>1</td>\n      <td>75400</td>\n      <td>NaN</td>\n      <td>89609.0</td>\n      <td>DebtCon</td>\n      <td>Other</td>\n      <td>1.0</td>\n      <td>0.0</td>\n      <td>0.0</td>\n      <td>115.763534</td>\n      <td>9.0</td>\n      <td>23.0</td>\n      <td>41.105569</td>\n    </tr>\n  </tbody>\n</table>\n<p>518 rows × 13 columns</p>\n</div>"
          },
          "metadata": {},
          "execution_count": 14
        }
      ]
    },
    {
      "cell_type": "code",
      "metadata": {
        "id": "-PrficM3WmFB"
      },
      "source": [],
      "execution_count": null,
      "outputs": []
    }
  ]
}