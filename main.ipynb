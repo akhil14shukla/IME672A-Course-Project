{
  "nbformat": 4,
  "nbformat_minor": 0,
  "metadata": {
    "colab": {
      "name": "IME672A.ipynb",
      "provenance": [],
      "authorship_tag": "ABX9TyO/ZhQnupHrrx14Pt2pLeob",
      "include_colab_link": true
    },
    "kernelspec": {
      "name": "python3",
      "display_name": "Python 3.8.10 64-bit"
    },
    "language_info": {
      "name": "python",
      "version": "3.8.10"
    },
    "interpreter": {
      "hash": "916dbcbb3f70747c44a77c7bcd40155683ae19c65e1c03b4aa3499c5328201f1"
    }
  },
  "cells": [
    {
      "cell_type": "markdown",
      "metadata": {
        "id": "view-in-github",
        "colab_type": "text"
      },
      "source": [
        "<a href=\"https://colab.research.google.com/github/akhil14shukla/IME672A-Course-Project/blob/master/main.ipynb\" target=\"_parent\"><img src=\"https://colab.research.google.com/assets/colab-badge.svg\" alt=\"Open In Colab\"/></a>"
      ]
    },
    {
      "source": [
        "Importing the required libraries"
      ],
      "cell_type": "markdown",
      "metadata": {}
    },
    {
      "cell_type": "code",
      "metadata": {
        "id": "urNG6OnUV2qV"
      },
      "source": [
        "import pandas as pd\n",
        "import numpy as np\n",
        "from sklearn.preprocessing import *\n",
        "import seaborn as sns\n",
        "import matplotlib.pyplot as plt\n",
        "from sklearn.model_selection import train_test_split\n",
        "from sklearn.tree import DecisionTreeClassifier, DecisionTreeRegressor\n",
        "import ppscore as pps\n",
        "from sklearn import metrics               \n",
        "from sklearn import preprocessing\n",
        "from sklearn import utils"
      ],
      "execution_count": 1,
      "outputs": []
    },
    {
      "source": [
        "Taking csv data as input"
      ],
      "cell_type": "markdown",
      "metadata": {}
    },
    {
      "cell_type": "code",
      "metadata": {
        "id": "05CTTb5wWKGQ"
      },
      "source": [
        "df = pd.read_csv(\"https://raw.githubusercontent.com/akhil14shukla/IME672A-Course-Project/master/hmeq.csv\")\n"
      ],
      "execution_count": 2,
      "outputs": []
    },
    {
      "cell_type": "code",
      "metadata": {
        "colab": {
          "base_uri": "https://localhost:8080/",
          "height": 1000
        },
        "id": "MykMKGbbWM--",
        "outputId": "bc91ee9a-25b3-480a-bb3a-de1377414d43"
      },
      "source": [
        "# sns.pairplot(df)"
      ],
      "execution_count": 3,
      "outputs": []
    },
    {
      "source": [
        "## Understanding the Data"
      ],
      "cell_type": "markdown",
      "metadata": {}
    },
    {
      "cell_type": "code",
      "execution_count": 4,
      "metadata": {},
      "outputs": [
        {
          "output_type": "stream",
          "name": "stdout",
          "text": [
            "BAD          int64\nLOAN         int64\nMORTDUE    float64\nVALUE      float64\nREASON      object\nJOB         object\nYOJ        float64\nDEROG      float64\nDELINQ     float64\nCLAGE      float64\nNINQ       float64\nCLNO       float64\nDEBTINC    float64\ndtype: object\n"
          ]
        }
      ],
      "source": [
        "print(df.dtypes)"
      ]
    },
    {
      "source": [
        "Most of the data is already numerical, only two are of strings type."
      ],
      "cell_type": "markdown",
      "metadata": {}
    },
    {
      "cell_type": "code",
      "execution_count": 5,
      "metadata": {},
      "outputs": [
        {
          "output_type": "error",
          "ename": "NameError",
          "evalue": "name 'y' is not defined",
          "traceback": [
            "\u001b[0;31m---------------------------------------------------------------------------\u001b[0m",
            "\u001b[0;31mNameError\u001b[0m                                 Traceback (most recent call last)",
            "\u001b[0;32m<ipython-input-5-a103ad2e0b74>\u001b[0m in \u001b[0;36m<module>\u001b[0;34m\u001b[0m\n\u001b[0;32m----> 1\u001b[0;31m \u001b[0mplt\u001b[0m\u001b[0;34m.\u001b[0m\u001b[0mscatter\u001b[0m\u001b[0;34m(\u001b[0m\u001b[0mdf\u001b[0m\u001b[0;34m[\u001b[0m\u001b[0;34m\"LOAN\"\u001b[0m\u001b[0;34m]\u001b[0m\u001b[0;34m,\u001b[0m\u001b[0my\u001b[0m\u001b[0;34m)\u001b[0m\u001b[0;34m\u001b[0m\u001b[0;34m\u001b[0m\u001b[0m\n\u001b[0m",
            "\u001b[0;31mNameError\u001b[0m: name 'y' is not defined"
          ]
        }
      ],
      "source": [
        "plt.scatter(df[\"LOAN\"],y)"
      ]
    },
    {
      "cell_type": "code",
      "execution_count": 6,
      "metadata": {},
      "outputs": [],
      "source": [
        "# Using Predictive Power Score to see whether the attributes are independently able to predict the defaulters\n",
        "# df_pps = df.join(y)\n",
        "# score = pps.matrix(df_pps)\n",
        "# print(score[score['y']=='BAD'])"
      ]
    },
    {
      "cell_type": "code",
      "execution_count": 15,
      "metadata": {},
      "outputs": [
        {
          "output_type": "execute_result",
          "data": {
            "text/plain": [
              "           x    y  ppscore            case  is_valid_score  \\\n",
              "12      LOAN  BAD      0.0      regression            True   \n",
              "25   MORTDUE  BAD      0.0      regression            True   \n",
              "38     VALUE  BAD      0.0      regression            True   \n",
              "51    REASON  BAD      0.0      regression            True   \n",
              "64       JOB  BAD      0.0      regression            True   \n",
              "77       YOJ  BAD      0.0      regression            True   \n",
              "90     DEROG  BAD      0.0      regression            True   \n",
              "103   DELINQ  BAD      0.0      regression            True   \n",
              "116    CLAGE  BAD      0.0      regression            True   \n",
              "129     NINQ  BAD      0.0      regression            True   \n",
              "142     CLNO  BAD      0.0      regression            True   \n",
              "155  DEBTINC  BAD      0.0      regression            True   \n",
              "168      BAD  BAD      1.0  predict_itself            True   \n",
              "\n",
              "                  metric  baseline_score  model_score                    model  \n",
              "12   mean absolute error        0.198800     0.283692  DecisionTreeRegressor()  \n",
              "25   mean absolute error        0.201000     0.303311  DecisionTreeRegressor()  \n",
              "38   mean absolute error        0.184600     0.270979  DecisionTreeRegressor()  \n",
              "51   mean absolute error        0.197000     0.316167  DecisionTreeRegressor()  \n",
              "64   mean absolute error        0.208800     0.326193  DecisionTreeRegressor()  \n",
              "77   mean absolute error        0.207200     0.307672  DecisionTreeRegressor()  \n",
              "90   mean absolute error        0.209000     0.301879  DecisionTreeRegressor()  \n",
              "103  mean absolute error        0.208800     0.286835  DecisionTreeRegressor()  \n",
              "116  mean absolute error        0.194400     0.289560  DecisionTreeRegressor()  \n",
              "129  mean absolute error        0.205200     0.315325  DecisionTreeRegressor()  \n",
              "142  mean absolute error        0.196400     0.304184  DecisionTreeRegressor()  \n",
              "155  mean absolute error        0.085873     0.128915  DecisionTreeRegressor()  \n",
              "168                 None        0.000000     1.000000                     None  "
            ],
            "text/html": "<div>\n<style scoped>\n    .dataframe tbody tr th:only-of-type {\n        vertical-align: middle;\n    }\n\n    .dataframe tbody tr th {\n        vertical-align: top;\n    }\n\n    .dataframe thead th {\n        text-align: right;\n    }\n</style>\n<table border=\"1\" class=\"dataframe\">\n  <thead>\n    <tr style=\"text-align: right;\">\n      <th></th>\n      <th>x</th>\n      <th>y</th>\n      <th>ppscore</th>\n      <th>case</th>\n      <th>is_valid_score</th>\n      <th>metric</th>\n      <th>baseline_score</th>\n      <th>model_score</th>\n      <th>model</th>\n    </tr>\n  </thead>\n  <tbody>\n    <tr>\n      <th>12</th>\n      <td>LOAN</td>\n      <td>BAD</td>\n      <td>0.0</td>\n      <td>regression</td>\n      <td>True</td>\n      <td>mean absolute error</td>\n      <td>0.198800</td>\n      <td>0.283692</td>\n      <td>DecisionTreeRegressor()</td>\n    </tr>\n    <tr>\n      <th>25</th>\n      <td>MORTDUE</td>\n      <td>BAD</td>\n      <td>0.0</td>\n      <td>regression</td>\n      <td>True</td>\n      <td>mean absolute error</td>\n      <td>0.201000</td>\n      <td>0.303311</td>\n      <td>DecisionTreeRegressor()</td>\n    </tr>\n    <tr>\n      <th>38</th>\n      <td>VALUE</td>\n      <td>BAD</td>\n      <td>0.0</td>\n      <td>regression</td>\n      <td>True</td>\n      <td>mean absolute error</td>\n      <td>0.184600</td>\n      <td>0.270979</td>\n      <td>DecisionTreeRegressor()</td>\n    </tr>\n    <tr>\n      <th>51</th>\n      <td>REASON</td>\n      <td>BAD</td>\n      <td>0.0</td>\n      <td>regression</td>\n      <td>True</td>\n      <td>mean absolute error</td>\n      <td>0.197000</td>\n      <td>0.316167</td>\n      <td>DecisionTreeRegressor()</td>\n    </tr>\n    <tr>\n      <th>64</th>\n      <td>JOB</td>\n      <td>BAD</td>\n      <td>0.0</td>\n      <td>regression</td>\n      <td>True</td>\n      <td>mean absolute error</td>\n      <td>0.208800</td>\n      <td>0.326193</td>\n      <td>DecisionTreeRegressor()</td>\n    </tr>\n    <tr>\n      <th>77</th>\n      <td>YOJ</td>\n      <td>BAD</td>\n      <td>0.0</td>\n      <td>regression</td>\n      <td>True</td>\n      <td>mean absolute error</td>\n      <td>0.207200</td>\n      <td>0.307672</td>\n      <td>DecisionTreeRegressor()</td>\n    </tr>\n    <tr>\n      <th>90</th>\n      <td>DEROG</td>\n      <td>BAD</td>\n      <td>0.0</td>\n      <td>regression</td>\n      <td>True</td>\n      <td>mean absolute error</td>\n      <td>0.209000</td>\n      <td>0.301879</td>\n      <td>DecisionTreeRegressor()</td>\n    </tr>\n    <tr>\n      <th>103</th>\n      <td>DELINQ</td>\n      <td>BAD</td>\n      <td>0.0</td>\n      <td>regression</td>\n      <td>True</td>\n      <td>mean absolute error</td>\n      <td>0.208800</td>\n      <td>0.286835</td>\n      <td>DecisionTreeRegressor()</td>\n    </tr>\n    <tr>\n      <th>116</th>\n      <td>CLAGE</td>\n      <td>BAD</td>\n      <td>0.0</td>\n      <td>regression</td>\n      <td>True</td>\n      <td>mean absolute error</td>\n      <td>0.194400</td>\n      <td>0.289560</td>\n      <td>DecisionTreeRegressor()</td>\n    </tr>\n    <tr>\n      <th>129</th>\n      <td>NINQ</td>\n      <td>BAD</td>\n      <td>0.0</td>\n      <td>regression</td>\n      <td>True</td>\n      <td>mean absolute error</td>\n      <td>0.205200</td>\n      <td>0.315325</td>\n      <td>DecisionTreeRegressor()</td>\n    </tr>\n    <tr>\n      <th>142</th>\n      <td>CLNO</td>\n      <td>BAD</td>\n      <td>0.0</td>\n      <td>regression</td>\n      <td>True</td>\n      <td>mean absolute error</td>\n      <td>0.196400</td>\n      <td>0.304184</td>\n      <td>DecisionTreeRegressor()</td>\n    </tr>\n    <tr>\n      <th>155</th>\n      <td>DEBTINC</td>\n      <td>BAD</td>\n      <td>0.0</td>\n      <td>regression</td>\n      <td>True</td>\n      <td>mean absolute error</td>\n      <td>0.085873</td>\n      <td>0.128915</td>\n      <td>DecisionTreeRegressor()</td>\n    </tr>\n    <tr>\n      <th>168</th>\n      <td>BAD</td>\n      <td>BAD</td>\n      <td>1.0</td>\n      <td>predict_itself</td>\n      <td>True</td>\n      <td>None</td>\n      <td>0.000000</td>\n      <td>1.000000</td>\n      <td>None</td>\n    </tr>\n  </tbody>\n</table>\n</div>"
          },
          "metadata": {},
          "execution_count": 15
        }
      ],
      "source": []
    },
    {
      "cell_type": "code",
      "metadata": {
        "colab": {
          "base_uri": "https://localhost:8080/"
        },
        "id": "hgrHZeeQWPIv",
        "outputId": "0cad68a7-7f4e-4fb3-b647-9d20678f0747"
      },
      "source": [
        "# Calculating the number of missing values in each attributes\n",
        "print(df.isna().sum())\n",
        "# Number of rows/tuples where more than 3 attributes are missing\n",
        "sum((df.isna().sum(axis=1))>3)"
      ],
      "execution_count": 7,
      "outputs": [
        {
          "output_type": "stream",
          "name": "stdout",
          "text": [
            "BAD           0\nLOAN          0\nMORTDUE     518\nVALUE       112\nREASON      252\nJOB         279\nYOJ         515\nDEROG       708\nDELINQ      580\nCLAGE       308\nNINQ        510\nCLNO        222\nDEBTINC    1267\ndtype: int64\n"
          ]
        },
        {
          "output_type": "execute_result",
          "data": {
            "text/plain": [
              "339"
            ]
          },
          "metadata": {},
          "execution_count": 7
        }
      ]
    },
    {
      "source": [
        "We can consider those tuples where more than 3 attributes are missing"
      ],
      "cell_type": "markdown",
      "metadata": {}
    },
    {
      "source": [
        "Reason/Meaning of null values in dataset, and how we will fill these:<br><br>\n",
        "REASON - This shows the reason why the person is taking the loan. There are two available values : Debt consolidation and Home Improvement. Thus, missing value must denote that the reason was other than the two available options. So, we will fill the null values with _\"Other reasons\"_."
      ],
      "cell_type": "markdown",
      "metadata": {}
    },
    {
      "cell_type": "code",
      "execution_count": 8,
      "metadata": {},
      "outputs": [],
      "source": [
        "df[\"REASON\"].fillna(\"Other reason\",inplace=True)"
      ]
    },
    {
      "cell_type": "code",
      "metadata": {
        "colab": {
          "base_uri": "https://localhost:8080/",
          "height": 402
        },
        "id": "CeOfgu8hWg9R",
        "outputId": "2381f908-ceed-4d3a-c806-848e10471aa3"
      },
      "source": [
        "df[df[\"MORTDUE\"].isna()]"
      ],
      "execution_count": 9,
      "outputs": [
        {
          "output_type": "execute_result",
          "data": {
            "text/plain": [
              "      BAD   LOAN  MORTDUE    VALUE        REASON    JOB   YOJ  DEROG  DELINQ  \\\n",
              "3       1   1500      NaN      NaN  Other reason    NaN   NaN    NaN     NaN   \n",
              "9       1   2000      NaN  62250.0       HomeImp  Sales  16.0    0.0     0.0   \n",
              "24      1   2400      NaN  17180.0       HomeImp  Other   NaN    0.0     0.0   \n",
              "40      1   3000      NaN   8800.0       HomeImp  Other   2.0    0.0     1.0   \n",
              "41      1   3000      NaN  33000.0       HomeImp  Other   1.0    0.0     1.0   \n",
              "...   ...    ...      ...      ...           ...    ...   ...    ...     ...   \n",
              "5880    0  53700      NaN  84205.0       HomeImp  Other   NaN    0.0     0.0   \n",
              "5883    0  53800      NaN  81322.0       HomeImp   Self   9.0    0.0     0.0   \n",
              "5884    0  53900      NaN  91309.0       HomeImp  Other   NaN    0.0     0.0   \n",
              "5930    1  72300      NaN  85000.0       DebtCon  Other   1.0    0.0     0.0   \n",
              "5931    1  75400      NaN  89609.0       DebtCon  Other   1.0    0.0     0.0   \n",
              "\n",
              "           CLAGE  NINQ  CLNO    DEBTINC  \n",
              "3            NaN   NaN   NaN        NaN  \n",
              "9     115.800000   0.0  13.0        NaN  \n",
              "24     14.566667   3.0   4.0        NaN  \n",
              "40     77.766667   0.0   3.0        NaN  \n",
              "41     23.300000   1.0   2.0        NaN  \n",
              "...          ...   ...   ...        ...  \n",
              "5880  339.665615   0.0   7.0  22.639940  \n",
              "5883  171.447555   0.0  22.0  24.709060  \n",
              "5884  349.795748   0.0   6.0  22.061330  \n",
              "5930  117.166667   9.0  23.0        NaN  \n",
              "5931  115.763534   9.0  23.0  41.105569  \n",
              "\n",
              "[518 rows x 13 columns]"
            ],
            "text/html": "<div>\n<style scoped>\n    .dataframe tbody tr th:only-of-type {\n        vertical-align: middle;\n    }\n\n    .dataframe tbody tr th {\n        vertical-align: top;\n    }\n\n    .dataframe thead th {\n        text-align: right;\n    }\n</style>\n<table border=\"1\" class=\"dataframe\">\n  <thead>\n    <tr style=\"text-align: right;\">\n      <th></th>\n      <th>BAD</th>\n      <th>LOAN</th>\n      <th>MORTDUE</th>\n      <th>VALUE</th>\n      <th>REASON</th>\n      <th>JOB</th>\n      <th>YOJ</th>\n      <th>DEROG</th>\n      <th>DELINQ</th>\n      <th>CLAGE</th>\n      <th>NINQ</th>\n      <th>CLNO</th>\n      <th>DEBTINC</th>\n    </tr>\n  </thead>\n  <tbody>\n    <tr>\n      <th>3</th>\n      <td>1</td>\n      <td>1500</td>\n      <td>NaN</td>\n      <td>NaN</td>\n      <td>Other reason</td>\n      <td>NaN</td>\n      <td>NaN</td>\n      <td>NaN</td>\n      <td>NaN</td>\n      <td>NaN</td>\n      <td>NaN</td>\n      <td>NaN</td>\n      <td>NaN</td>\n    </tr>\n    <tr>\n      <th>9</th>\n      <td>1</td>\n      <td>2000</td>\n      <td>NaN</td>\n      <td>62250.0</td>\n      <td>HomeImp</td>\n      <td>Sales</td>\n      <td>16.0</td>\n      <td>0.0</td>\n      <td>0.0</td>\n      <td>115.800000</td>\n      <td>0.0</td>\n      <td>13.0</td>\n      <td>NaN</td>\n    </tr>\n    <tr>\n      <th>24</th>\n      <td>1</td>\n      <td>2400</td>\n      <td>NaN</td>\n      <td>17180.0</td>\n      <td>HomeImp</td>\n      <td>Other</td>\n      <td>NaN</td>\n      <td>0.0</td>\n      <td>0.0</td>\n      <td>14.566667</td>\n      <td>3.0</td>\n      <td>4.0</td>\n      <td>NaN</td>\n    </tr>\n    <tr>\n      <th>40</th>\n      <td>1</td>\n      <td>3000</td>\n      <td>NaN</td>\n      <td>8800.0</td>\n      <td>HomeImp</td>\n      <td>Other</td>\n      <td>2.0</td>\n      <td>0.0</td>\n      <td>1.0</td>\n      <td>77.766667</td>\n      <td>0.0</td>\n      <td>3.0</td>\n      <td>NaN</td>\n    </tr>\n    <tr>\n      <th>41</th>\n      <td>1</td>\n      <td>3000</td>\n      <td>NaN</td>\n      <td>33000.0</td>\n      <td>HomeImp</td>\n      <td>Other</td>\n      <td>1.0</td>\n      <td>0.0</td>\n      <td>1.0</td>\n      <td>23.300000</td>\n      <td>1.0</td>\n      <td>2.0</td>\n      <td>NaN</td>\n    </tr>\n    <tr>\n      <th>...</th>\n      <td>...</td>\n      <td>...</td>\n      <td>...</td>\n      <td>...</td>\n      <td>...</td>\n      <td>...</td>\n      <td>...</td>\n      <td>...</td>\n      <td>...</td>\n      <td>...</td>\n      <td>...</td>\n      <td>...</td>\n      <td>...</td>\n    </tr>\n    <tr>\n      <th>5880</th>\n      <td>0</td>\n      <td>53700</td>\n      <td>NaN</td>\n      <td>84205.0</td>\n      <td>HomeImp</td>\n      <td>Other</td>\n      <td>NaN</td>\n      <td>0.0</td>\n      <td>0.0</td>\n      <td>339.665615</td>\n      <td>0.0</td>\n      <td>7.0</td>\n      <td>22.639940</td>\n    </tr>\n    <tr>\n      <th>5883</th>\n      <td>0</td>\n      <td>53800</td>\n      <td>NaN</td>\n      <td>81322.0</td>\n      <td>HomeImp</td>\n      <td>Self</td>\n      <td>9.0</td>\n      <td>0.0</td>\n      <td>0.0</td>\n      <td>171.447555</td>\n      <td>0.0</td>\n      <td>22.0</td>\n      <td>24.709060</td>\n    </tr>\n    <tr>\n      <th>5884</th>\n      <td>0</td>\n      <td>53900</td>\n      <td>NaN</td>\n      <td>91309.0</td>\n      <td>HomeImp</td>\n      <td>Other</td>\n      <td>NaN</td>\n      <td>0.0</td>\n      <td>0.0</td>\n      <td>349.795748</td>\n      <td>0.0</td>\n      <td>6.0</td>\n      <td>22.061330</td>\n    </tr>\n    <tr>\n      <th>5930</th>\n      <td>1</td>\n      <td>72300</td>\n      <td>NaN</td>\n      <td>85000.0</td>\n      <td>DebtCon</td>\n      <td>Other</td>\n      <td>1.0</td>\n      <td>0.0</td>\n      <td>0.0</td>\n      <td>117.166667</td>\n      <td>9.0</td>\n      <td>23.0</td>\n      <td>NaN</td>\n    </tr>\n    <tr>\n      <th>5931</th>\n      <td>1</td>\n      <td>75400</td>\n      <td>NaN</td>\n      <td>89609.0</td>\n      <td>DebtCon</td>\n      <td>Other</td>\n      <td>1.0</td>\n      <td>0.0</td>\n      <td>0.0</td>\n      <td>115.763534</td>\n      <td>9.0</td>\n      <td>23.0</td>\n      <td>41.105569</td>\n    </tr>\n  </tbody>\n</table>\n<p>518 rows × 13 columns</p>\n</div>"
          },
          "metadata": {},
          "execution_count": 9
        }
      ]
    },
    {
      "cell_type": "code",
      "metadata": {
        "id": "-PrficM3WmFB"
      },
      "source": [
        "print(df[\"JOB\"].isna().sum())\n",
        "print(df[\"JOB\"].value_counts())\n",
        "# We can fill the missing values with the mode, i.e. \"Other\", or we can fill the missing values depending on the distribution of the non-null values. \n",
        "df[\"JOB\"].fillna(df[\"JOB\"].mode()[0],inplace=True)\n",
        "print(df[\"JOB\"].isna().sum())"
      ],
      "execution_count": 10,
      "outputs": [
        {
          "output_type": "stream",
          "name": "stdout",
          "text": [
            "279\nOther      2388\nProfExe    1276\nOffice      948\nMgr         767\nSelf        193\nSales       109\nName: JOB, dtype: int64\n0\n"
          ]
        }
      ]
    },
    {
      "cell_type": "code",
      "execution_count": 11,
      "metadata": {},
      "outputs": [],
      "source": [
        "# Temporary filling the rest null values with 0\n",
        "df.fillna(0,inplace=True)"
      ]
    },
    {
      "cell_type": "code",
      "execution_count": 12,
      "metadata": {},
      "outputs": [],
      "source": [
        "df = df.join(pd.get_dummies(df[\"JOB\"]))\n",
        "df = df.join(pd.get_dummies(df[\"REASON\"]))\n",
        "df.drop([\"JOB\", \"REASON\"],axis=1, inplace=True)"
      ]
    },
    {
      "cell_type": "code",
      "execution_count": 20,
      "metadata": {},
      "outputs": [],
      "source": [
        "c\n",
        "categ = [\"BAD\"]\n",
        "pps_f = pps(df,categ)"
      ]
    },
    {
      "cell_type": "code",
      "execution_count": 23,
      "metadata": {},
      "outputs": [
        {
          "output_type": "execute_result",
          "data": {
            "text/plain": [
              "          Feature Target       PPS Type of Prediction  Cross-Val Score  \\\n",
              "0             BAD    BAD  1.000000     Classification         1.000000   \n",
              "20           LOAN    BAD  0.282297     Classification         0.798658   \n",
              "40        MORTDUE    BAD  0.271012     Classification         0.714765   \n",
              "60          VALUE    BAD  0.336163     Classification         0.737584   \n",
              "80            YOJ    BAD  0.104348     Classification         0.792617   \n",
              "100         DEROG    BAD  0.242254     Classification         0.819463   \n",
              "120        DELINQ    BAD  0.292683     Classification         0.824832   \n",
              "140         CLAGE    BAD  0.281739     Classification         0.722819   \n",
              "160          NINQ    BAD  0.132530     Classification         0.806711   \n",
              "180          CLNO    BAD  0.049470     Classification         0.819463   \n",
              "200       DEBTINC    BAD  0.623907     Classification         0.826846   \n",
              "220           Mgr    BAD  0.000000     Classification         0.804027   \n",
              "240        Office    BAD  0.000000     Classification         0.793960   \n",
              "260         Other    BAD  0.000000     Classification         0.791275   \n",
              "280       ProfExe    BAD  0.000000     Classification         0.801342   \n",
              "300         Sales    BAD  0.000000     Classification         0.802685   \n",
              "320          Self    BAD  0.000000     Classification         0.796644   \n",
              "340       DebtCon    BAD  0.000000     Classification         0.808725   \n",
              "360       HomeImp    BAD  0.000000     Classification         0.803356   \n",
              "380  Other reason    BAD  0.000000     Classification         0.800671   \n",
              "\n",
              "     Training Score  Naive-Baseline Score                     Model  \n",
              "0          1.000000                   0.0  DecisionTreeClassifier()  \n",
              "20         0.823714                   0.0  DecisionTreeClassifier()  \n",
              "40         0.961074                   0.0  DecisionTreeClassifier()  \n",
              "60         0.973826                   0.0  DecisionTreeClassifier()  \n",
              "80         0.822819                   0.0  DecisionTreeClassifier()  \n",
              "100        0.809620                   0.0  DecisionTreeClassifier()  \n",
              "120        0.815436                   0.0  DecisionTreeClassifier()  \n",
              "140        0.969575                   0.0  DecisionTreeClassifier()  \n",
              "160        0.799776                   0.0  DecisionTreeClassifier()  \n",
              "180        0.802013                   0.0  DecisionTreeClassifier()  \n",
              "200        0.918345                   0.0  DecisionTreeClassifier()  \n",
              "220        0.799329                   0.0  DecisionTreeClassifier()  \n",
              "240        0.802685                   0.0  DecisionTreeClassifier()  \n",
              "260        0.803579                   0.0  DecisionTreeClassifier()  \n",
              "280        0.800224                   0.0  DecisionTreeClassifier()  \n",
              "300        0.799776                   0.0  DecisionTreeClassifier()  \n",
              "320        0.801790                   0.0  DecisionTreeClassifier()  \n",
              "340        0.797763                   0.0  DecisionTreeClassifier()  \n",
              "360        0.799553                   0.0  DecisionTreeClassifier()  \n",
              "380        0.800447                   0.0  DecisionTreeClassifier()  "
            ],
            "text/html": "<div>\n<style scoped>\n    .dataframe tbody tr th:only-of-type {\n        vertical-align: middle;\n    }\n\n    .dataframe tbody tr th {\n        vertical-align: top;\n    }\n\n    .dataframe thead th {\n        text-align: right;\n    }\n</style>\n<table border=\"1\" class=\"dataframe\">\n  <thead>\n    <tr style=\"text-align: right;\">\n      <th></th>\n      <th>Feature</th>\n      <th>Target</th>\n      <th>PPS</th>\n      <th>Type of Prediction</th>\n      <th>Cross-Val Score</th>\n      <th>Training Score</th>\n      <th>Naive-Baseline Score</th>\n      <th>Model</th>\n    </tr>\n  </thead>\n  <tbody>\n    <tr>\n      <th>0</th>\n      <td>BAD</td>\n      <td>BAD</td>\n      <td>1.000000</td>\n      <td>Classification</td>\n      <td>1.000000</td>\n      <td>1.000000</td>\n      <td>0.0</td>\n      <td>DecisionTreeClassifier()</td>\n    </tr>\n    <tr>\n      <th>20</th>\n      <td>LOAN</td>\n      <td>BAD</td>\n      <td>0.282297</td>\n      <td>Classification</td>\n      <td>0.798658</td>\n      <td>0.823714</td>\n      <td>0.0</td>\n      <td>DecisionTreeClassifier()</td>\n    </tr>\n    <tr>\n      <th>40</th>\n      <td>MORTDUE</td>\n      <td>BAD</td>\n      <td>0.271012</td>\n      <td>Classification</td>\n      <td>0.714765</td>\n      <td>0.961074</td>\n      <td>0.0</td>\n      <td>DecisionTreeClassifier()</td>\n    </tr>\n    <tr>\n      <th>60</th>\n      <td>VALUE</td>\n      <td>BAD</td>\n      <td>0.336163</td>\n      <td>Classification</td>\n      <td>0.737584</td>\n      <td>0.973826</td>\n      <td>0.0</td>\n      <td>DecisionTreeClassifier()</td>\n    </tr>\n    <tr>\n      <th>80</th>\n      <td>YOJ</td>\n      <td>BAD</td>\n      <td>0.104348</td>\n      <td>Classification</td>\n      <td>0.792617</td>\n      <td>0.822819</td>\n      <td>0.0</td>\n      <td>DecisionTreeClassifier()</td>\n    </tr>\n    <tr>\n      <th>100</th>\n      <td>DEROG</td>\n      <td>BAD</td>\n      <td>0.242254</td>\n      <td>Classification</td>\n      <td>0.819463</td>\n      <td>0.809620</td>\n      <td>0.0</td>\n      <td>DecisionTreeClassifier()</td>\n    </tr>\n    <tr>\n      <th>120</th>\n      <td>DELINQ</td>\n      <td>BAD</td>\n      <td>0.292683</td>\n      <td>Classification</td>\n      <td>0.824832</td>\n      <td>0.815436</td>\n      <td>0.0</td>\n      <td>DecisionTreeClassifier()</td>\n    </tr>\n    <tr>\n      <th>140</th>\n      <td>CLAGE</td>\n      <td>BAD</td>\n      <td>0.281739</td>\n      <td>Classification</td>\n      <td>0.722819</td>\n      <td>0.969575</td>\n      <td>0.0</td>\n      <td>DecisionTreeClassifier()</td>\n    </tr>\n    <tr>\n      <th>160</th>\n      <td>NINQ</td>\n      <td>BAD</td>\n      <td>0.132530</td>\n      <td>Classification</td>\n      <td>0.806711</td>\n      <td>0.799776</td>\n      <td>0.0</td>\n      <td>DecisionTreeClassifier()</td>\n    </tr>\n    <tr>\n      <th>180</th>\n      <td>CLNO</td>\n      <td>BAD</td>\n      <td>0.049470</td>\n      <td>Classification</td>\n      <td>0.819463</td>\n      <td>0.802013</td>\n      <td>0.0</td>\n      <td>DecisionTreeClassifier()</td>\n    </tr>\n    <tr>\n      <th>200</th>\n      <td>DEBTINC</td>\n      <td>BAD</td>\n      <td>0.623907</td>\n      <td>Classification</td>\n      <td>0.826846</td>\n      <td>0.918345</td>\n      <td>0.0</td>\n      <td>DecisionTreeClassifier()</td>\n    </tr>\n    <tr>\n      <th>220</th>\n      <td>Mgr</td>\n      <td>BAD</td>\n      <td>0.000000</td>\n      <td>Classification</td>\n      <td>0.804027</td>\n      <td>0.799329</td>\n      <td>0.0</td>\n      <td>DecisionTreeClassifier()</td>\n    </tr>\n    <tr>\n      <th>240</th>\n      <td>Office</td>\n      <td>BAD</td>\n      <td>0.000000</td>\n      <td>Classification</td>\n      <td>0.793960</td>\n      <td>0.802685</td>\n      <td>0.0</td>\n      <td>DecisionTreeClassifier()</td>\n    </tr>\n    <tr>\n      <th>260</th>\n      <td>Other</td>\n      <td>BAD</td>\n      <td>0.000000</td>\n      <td>Classification</td>\n      <td>0.791275</td>\n      <td>0.803579</td>\n      <td>0.0</td>\n      <td>DecisionTreeClassifier()</td>\n    </tr>\n    <tr>\n      <th>280</th>\n      <td>ProfExe</td>\n      <td>BAD</td>\n      <td>0.000000</td>\n      <td>Classification</td>\n      <td>0.801342</td>\n      <td>0.800224</td>\n      <td>0.0</td>\n      <td>DecisionTreeClassifier()</td>\n    </tr>\n    <tr>\n      <th>300</th>\n      <td>Sales</td>\n      <td>BAD</td>\n      <td>0.000000</td>\n      <td>Classification</td>\n      <td>0.802685</td>\n      <td>0.799776</td>\n      <td>0.0</td>\n      <td>DecisionTreeClassifier()</td>\n    </tr>\n    <tr>\n      <th>320</th>\n      <td>Self</td>\n      <td>BAD</td>\n      <td>0.000000</td>\n      <td>Classification</td>\n      <td>0.796644</td>\n      <td>0.801790</td>\n      <td>0.0</td>\n      <td>DecisionTreeClassifier()</td>\n    </tr>\n    <tr>\n      <th>340</th>\n      <td>DebtCon</td>\n      <td>BAD</td>\n      <td>0.000000</td>\n      <td>Classification</td>\n      <td>0.808725</td>\n      <td>0.797763</td>\n      <td>0.0</td>\n      <td>DecisionTreeClassifier()</td>\n    </tr>\n    <tr>\n      <th>360</th>\n      <td>HomeImp</td>\n      <td>BAD</td>\n      <td>0.000000</td>\n      <td>Classification</td>\n      <td>0.803356</td>\n      <td>0.799553</td>\n      <td>0.0</td>\n      <td>DecisionTreeClassifier()</td>\n    </tr>\n    <tr>\n      <th>380</th>\n      <td>Other reason</td>\n      <td>BAD</td>\n      <td>0.000000</td>\n      <td>Classification</td>\n      <td>0.800671</td>\n      <td>0.800447</td>\n      <td>0.0</td>\n      <td>DecisionTreeClassifier()</td>\n    </tr>\n  </tbody>\n</table>\n</div>"
          },
          "metadata": {},
          "execution_count": 23
        }
      ],
      "source": [
        "pps_f[pps_f[\"Target\"]==\"BAD\"]"
      ]
    },
    {
      "cell_type": "code",
      "execution_count": 14,
      "metadata": {},
      "outputs": [
        {
          "output_type": "execute_result",
          "data": {
            "text/plain": [
              "0    0\n",
              "dtype: int64"
            ]
          },
          "metadata": {},
          "execution_count": 14
        }
      ],
      "source": [
        "df[\"BAD\"].mode()"
      ]
    },
    {
      "source": [
        "Building the Model"
      ],
      "cell_type": "markdown",
      "metadata": {}
    },
    {
      "cell_type": "code",
      "execution_count": null,
      "metadata": {},
      "outputs": [],
      "source": [
        "# Dividing the dataset into training and cross-validation\n",
        "y = df[\"BAD\"]\n",
        "df.drop([\"BAD\"],axis=1,inplace=True)\n",
        "x_train, x_test, y_train, y_test = train_test_split(df,y)"
      ]
    },
    {
      "cell_type": "code",
      "execution_count": null,
      "metadata": {},
      "outputs": [],
      "source": [
        "# Training Decision Tree Model\n",
        "dtree = DecisionTreeClassifier()\n",
        "dtree.fit(x_train,y_train)"
      ]
    },
    {
      "source": [
        "Testing the models on cross-validation dataset, and comparing with training dataset"
      ],
      "cell_type": "markdown",
      "metadata": {}
    },
    {
      "cell_type": "code",
      "execution_count": null,
      "metadata": {},
      "outputs": [],
      "source": [
        "print(\"Accuracy on Training Dataset : \",dtree.score(x_train,y_train))\n",
        "print(\"Accuracy on CV Dataset : \",dtree.score(x_test,y_test))"
      ]
    }
  ]
}