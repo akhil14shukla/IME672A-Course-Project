{
  "nbformat": 4,
  "nbformat_minor": 0,
  "metadata": {
    "colab": {
      "name": "IME672A.ipynb",
      "provenance": [],
      "authorship_tag": "ABX9TyO/ZhQnupHrrx14Pt2pLeob",
      "include_colab_link": true
    },
    "kernelspec": {
      "name": "python3",
      "display_name": "Python 3.8.10 64-bit"
    },
    "language_info": {
      "name": "python",
      "version": "3.8.10"
    },
    "interpreter": {
      "hash": "916dbcbb3f70747c44a77c7bcd40155683ae19c65e1c03b4aa3499c5328201f1"
    }
  },
  "cells": [
    {
      "cell_type": "markdown",
      "metadata": {
        "id": "view-in-github",
        "colab_type": "text"
      },
      "source": [
        "<a href=\"https://colab.research.google.com/github/akhil14shukla/IME672A-Course-Project/blob/master/main.ipynb\" target=\"_parent\"><img src=\"https://colab.research.google.com/assets/colab-badge.svg\" alt=\"Open In Colab\"/></a>"
      ]
    },
    {
      "source": [
        "Importing the required libraries"
      ],
      "cell_type": "markdown",
      "metadata": {}
    },
    {
      "cell_type": "code",
      "metadata": {
        "id": "urNG6OnUV2qV"
      },
      "source": [
        "import pandas as pd\n",
        "import numpy as np\n",
        "from sklearn.preprocessing import *\n",
        "import seaborn as sns\n",
        "import matplotlib.pyplot as plt\n",
        "from sklearn.model_selection import train_test_split\n",
        "from sklearn.tree import DecisionTreeClassifier"
      ],
      "execution_count": 33,
      "outputs": []
    },
    {
      "source": [
        "Taking csv data as input"
      ],
      "cell_type": "markdown",
      "metadata": {}
    },
    {
      "cell_type": "code",
      "metadata": {
        "id": "05CTTb5wWKGQ"
      },
      "source": [
        "df = pd.read_csv(\"https://raw.githubusercontent.com/akhil14shukla/IME672A-Course-Project/master/hmeq.csv\")\n",
        "y = df[\"BAD\"]\n",
        "df.drop([\"BAD\"],axis=1,inplace=True)"
      ],
      "execution_count": 34,
      "outputs": []
    },
    {
      "cell_type": "code",
      "metadata": {
        "colab": {
          "base_uri": "https://localhost:8080/",
          "height": 1000
        },
        "id": "MykMKGbbWM--",
        "outputId": "bc91ee9a-25b3-480a-bb3a-de1377414d43"
      },
      "source": [
        "# sns.pairplot(df)"
      ],
      "execution_count": 35,
      "outputs": []
    },
    {
      "source": [
        "Understanding the Data"
      ],
      "cell_type": "markdown",
      "metadata": {}
    },
    {
      "cell_type": "code",
      "execution_count": 36,
      "metadata": {},
      "outputs": [
        {
          "output_type": "stream",
          "name": "stdout",
          "text": [
            "BAD          int64\nLOAN         int64\nMORTDUE    float64\nVALUE      float64\nREASON      object\nJOB         object\nYOJ        float64\nDEROG      float64\nDELINQ     float64\nCLAGE      float64\nNINQ       float64\nCLNO       float64\nDEBTINC    float64\ndtype: object\n"
          ]
        }
      ],
      "source": [
        "print(df.dtypes)"
      ]
    },
    {
      "source": [
        "Most of the data is already numerical, only two are of strings type."
      ],
      "cell_type": "markdown",
      "metadata": {}
    },
    {
      "cell_type": "code",
      "metadata": {
        "colab": {
          "base_uri": "https://localhost:8080/"
        },
        "id": "hgrHZeeQWPIv",
        "outputId": "0cad68a7-7f4e-4fb3-b647-9d20678f0747"
      },
      "source": [
        "# Calculating the number of missing values in each attributes\n",
        "print(df.isna().sum())\n",
        "# Number of rows/tuples where more than 3 attributes are missing\n",
        "sum((df.isna().sum(axis=1))>3)"
      ],
      "execution_count": 37,
      "outputs": [
        {
          "output_type": "stream",
          "name": "stdout",
          "text": [
            "BAD           0\nLOAN          0\nMORTDUE     518\nVALUE       112\nREASON      252\nJOB         279\nYOJ         515\nDEROG       708\nDELINQ      580\nCLAGE       308\nNINQ        510\nCLNO        222\nDEBTINC    1267\ndtype: int64\n"
          ]
        },
        {
          "output_type": "execute_result",
          "data": {
            "text/plain": [
              "339"
            ]
          },
          "metadata": {},
          "execution_count": 37
        }
      ]
    },
    {
      "source": [
        "We can consider those tuples where more than 3 attributes are missing"
      ],
      "cell_type": "markdown",
      "metadata": {}
    },
    {
      "source": [
        "Reason/Meaning of null values in dataset, and how we will fill these:<br><br>\n",
        "REASON - This shows the reason why the person is taking the loan. There are two available values : Debt consolidation and Home Improvement. Thus, missing value must denote that the reason was other than the two available options. So, we will fill the null values with _\"Other reasons\"_."
      ],
      "cell_type": "markdown",
      "metadata": {}
    },
    {
      "cell_type": "code",
      "execution_count": 38,
      "metadata": {},
      "outputs": [],
      "source": [
        "df[\"REASON\"].fillna(\"Other reason\",inplace=True)"
      ]
    },
    {
      "cell_type": "code",
      "metadata": {
        "colab": {
          "base_uri": "https://localhost:8080/",
          "height": 402
        },
        "id": "CeOfgu8hWg9R",
        "outputId": "2381f908-ceed-4d3a-c806-848e10471aa3"
      },
      "source": [
        "df[df[\"MORTDUE\"].isna()]"
      ],
      "execution_count": 39,
      "outputs": [
        {
          "output_type": "execute_result",
          "data": {
            "text/plain": [
              "      BAD   LOAN  MORTDUE    VALUE        REASON    JOB   YOJ  DEROG  DELINQ  \\\n",
              "3       1   1500      NaN      NaN  Other reason    NaN   NaN    NaN     NaN   \n",
              "9       1   2000      NaN  62250.0       HomeImp  Sales  16.0    0.0     0.0   \n",
              "24      1   2400      NaN  17180.0       HomeImp  Other   NaN    0.0     0.0   \n",
              "40      1   3000      NaN   8800.0       HomeImp  Other   2.0    0.0     1.0   \n",
              "41      1   3000      NaN  33000.0       HomeImp  Other   1.0    0.0     1.0   \n",
              "...   ...    ...      ...      ...           ...    ...   ...    ...     ...   \n",
              "5880    0  53700      NaN  84205.0       HomeImp  Other   NaN    0.0     0.0   \n",
              "5883    0  53800      NaN  81322.0       HomeImp   Self   9.0    0.0     0.0   \n",
              "5884    0  53900      NaN  91309.0       HomeImp  Other   NaN    0.0     0.0   \n",
              "5930    1  72300      NaN  85000.0       DebtCon  Other   1.0    0.0     0.0   \n",
              "5931    1  75400      NaN  89609.0       DebtCon  Other   1.0    0.0     0.0   \n",
              "\n",
              "           CLAGE  NINQ  CLNO    DEBTINC  \n",
              "3            NaN   NaN   NaN        NaN  \n",
              "9     115.800000   0.0  13.0        NaN  \n",
              "24     14.566667   3.0   4.0        NaN  \n",
              "40     77.766667   0.0   3.0        NaN  \n",
              "41     23.300000   1.0   2.0        NaN  \n",
              "...          ...   ...   ...        ...  \n",
              "5880  339.665615   0.0   7.0  22.639940  \n",
              "5883  171.447555   0.0  22.0  24.709060  \n",
              "5884  349.795748   0.0   6.0  22.061330  \n",
              "5930  117.166667   9.0  23.0        NaN  \n",
              "5931  115.763534   9.0  23.0  41.105569  \n",
              "\n",
              "[518 rows x 13 columns]"
            ],
            "text/html": "<div>\n<style scoped>\n    .dataframe tbody tr th:only-of-type {\n        vertical-align: middle;\n    }\n\n    .dataframe tbody tr th {\n        vertical-align: top;\n    }\n\n    .dataframe thead th {\n        text-align: right;\n    }\n</style>\n<table border=\"1\" class=\"dataframe\">\n  <thead>\n    <tr style=\"text-align: right;\">\n      <th></th>\n      <th>BAD</th>\n      <th>LOAN</th>\n      <th>MORTDUE</th>\n      <th>VALUE</th>\n      <th>REASON</th>\n      <th>JOB</th>\n      <th>YOJ</th>\n      <th>DEROG</th>\n      <th>DELINQ</th>\n      <th>CLAGE</th>\n      <th>NINQ</th>\n      <th>CLNO</th>\n      <th>DEBTINC</th>\n    </tr>\n  </thead>\n  <tbody>\n    <tr>\n      <th>3</th>\n      <td>1</td>\n      <td>1500</td>\n      <td>NaN</td>\n      <td>NaN</td>\n      <td>Other reason</td>\n      <td>NaN</td>\n      <td>NaN</td>\n      <td>NaN</td>\n      <td>NaN</td>\n      <td>NaN</td>\n      <td>NaN</td>\n      <td>NaN</td>\n      <td>NaN</td>\n    </tr>\n    <tr>\n      <th>9</th>\n      <td>1</td>\n      <td>2000</td>\n      <td>NaN</td>\n      <td>62250.0</td>\n      <td>HomeImp</td>\n      <td>Sales</td>\n      <td>16.0</td>\n      <td>0.0</td>\n      <td>0.0</td>\n      <td>115.800000</td>\n      <td>0.0</td>\n      <td>13.0</td>\n      <td>NaN</td>\n    </tr>\n    <tr>\n      <th>24</th>\n      <td>1</td>\n      <td>2400</td>\n      <td>NaN</td>\n      <td>17180.0</td>\n      <td>HomeImp</td>\n      <td>Other</td>\n      <td>NaN</td>\n      <td>0.0</td>\n      <td>0.0</td>\n      <td>14.566667</td>\n      <td>3.0</td>\n      <td>4.0</td>\n      <td>NaN</td>\n    </tr>\n    <tr>\n      <th>40</th>\n      <td>1</td>\n      <td>3000</td>\n      <td>NaN</td>\n      <td>8800.0</td>\n      <td>HomeImp</td>\n      <td>Other</td>\n      <td>2.0</td>\n      <td>0.0</td>\n      <td>1.0</td>\n      <td>77.766667</td>\n      <td>0.0</td>\n      <td>3.0</td>\n      <td>NaN</td>\n    </tr>\n    <tr>\n      <th>41</th>\n      <td>1</td>\n      <td>3000</td>\n      <td>NaN</td>\n      <td>33000.0</td>\n      <td>HomeImp</td>\n      <td>Other</td>\n      <td>1.0</td>\n      <td>0.0</td>\n      <td>1.0</td>\n      <td>23.300000</td>\n      <td>1.0</td>\n      <td>2.0</td>\n      <td>NaN</td>\n    </tr>\n    <tr>\n      <th>...</th>\n      <td>...</td>\n      <td>...</td>\n      <td>...</td>\n      <td>...</td>\n      <td>...</td>\n      <td>...</td>\n      <td>...</td>\n      <td>...</td>\n      <td>...</td>\n      <td>...</td>\n      <td>...</td>\n      <td>...</td>\n      <td>...</td>\n    </tr>\n    <tr>\n      <th>5880</th>\n      <td>0</td>\n      <td>53700</td>\n      <td>NaN</td>\n      <td>84205.0</td>\n      <td>HomeImp</td>\n      <td>Other</td>\n      <td>NaN</td>\n      <td>0.0</td>\n      <td>0.0</td>\n      <td>339.665615</td>\n      <td>0.0</td>\n      <td>7.0</td>\n      <td>22.639940</td>\n    </tr>\n    <tr>\n      <th>5883</th>\n      <td>0</td>\n      <td>53800</td>\n      <td>NaN</td>\n      <td>81322.0</td>\n      <td>HomeImp</td>\n      <td>Self</td>\n      <td>9.0</td>\n      <td>0.0</td>\n      <td>0.0</td>\n      <td>171.447555</td>\n      <td>0.0</td>\n      <td>22.0</td>\n      <td>24.709060</td>\n    </tr>\n    <tr>\n      <th>5884</th>\n      <td>0</td>\n      <td>53900</td>\n      <td>NaN</td>\n      <td>91309.0</td>\n      <td>HomeImp</td>\n      <td>Other</td>\n      <td>NaN</td>\n      <td>0.0</td>\n      <td>0.0</td>\n      <td>349.795748</td>\n      <td>0.0</td>\n      <td>6.0</td>\n      <td>22.061330</td>\n    </tr>\n    <tr>\n      <th>5930</th>\n      <td>1</td>\n      <td>72300</td>\n      <td>NaN</td>\n      <td>85000.0</td>\n      <td>DebtCon</td>\n      <td>Other</td>\n      <td>1.0</td>\n      <td>0.0</td>\n      <td>0.0</td>\n      <td>117.166667</td>\n      <td>9.0</td>\n      <td>23.0</td>\n      <td>NaN</td>\n    </tr>\n    <tr>\n      <th>5931</th>\n      <td>1</td>\n      <td>75400</td>\n      <td>NaN</td>\n      <td>89609.0</td>\n      <td>DebtCon</td>\n      <td>Other</td>\n      <td>1.0</td>\n      <td>0.0</td>\n      <td>0.0</td>\n      <td>115.763534</td>\n      <td>9.0</td>\n      <td>23.0</td>\n      <td>41.105569</td>\n    </tr>\n  </tbody>\n</table>\n<p>518 rows × 13 columns</p>\n</div>"
          },
          "metadata": {},
          "execution_count": 39
        }
      ]
    },
    {
      "cell_type": "code",
      "metadata": {
        "id": "-PrficM3WmFB"
      },
      "source": [
        "print(df[\"JOB\"].isna().sum())\n",
        "print(df[\"JOB\"].value_counts())\n",
        "# We can fill the missing values with the mode, i.e. \"Other\", or we can fill the missing values depending on the distribution of the non-null values. \n",
        "df[\"JOB\"].fillna(df[\"JOB\"].mode()[0],inplace=True)\n",
        "print(df[\"JOB\"].isna().sum())"
      ],
      "execution_count": 40,
      "outputs": [
        {
          "output_type": "stream",
          "name": "stdout",
          "text": [
            "279\nOther      2388\nProfExe    1276\nOffice      948\nMgr         767\nSelf        193\nSales       109\nName: JOB, dtype: int64\n0\n"
          ]
        }
      ]
    },
    {
      "cell_type": "code",
      "execution_count": 41,
      "metadata": {},
      "outputs": [],
      "source": [
        "# Temporary filling the rest null values with 0\n",
        "df.fillna(0,inplace=True)"
      ]
    },
    {
      "cell_type": "code",
      "execution_count": 43,
      "metadata": {},
      "outputs": [],
      "source": [
        "df = df.join(pd.get_dummies(df[\"JOB\"]))\n",
        "df = df.join(pd.get_dummies(df[\"REASON\"]))\n",
        "df.drop([\"JOB\", \"REASON\"],axis=1, inplace=True)"
      ]
    },
    {
      "cell_type": "code",
      "execution_count": 44,
      "metadata": {},
      "outputs": [
        {
          "output_type": "execute_result",
          "data": {
            "text/plain": [
              "       LOAN  MORTDUE     VALUE   YOJ  DEROG  DELINQ       CLAGE  NINQ  CLNO  \\\n",
              "0      1100  25860.0   39025.0  10.5    0.0     0.0   94.366667   1.0   9.0   \n",
              "1      1300  70053.0   68400.0   7.0    0.0     2.0  121.833333   0.0  14.0   \n",
              "2      1500  13500.0   16700.0   4.0    0.0     0.0  149.466667   1.0  10.0   \n",
              "3      1500      0.0       0.0   0.0    0.0     0.0    0.000000   0.0   0.0   \n",
              "4      1700  97800.0  112000.0   3.0    0.0     0.0   93.333333   0.0  14.0   \n",
              "...     ...      ...       ...   ...    ...     ...         ...   ...   ...   \n",
              "5955  88900  57264.0   90185.0  16.0    0.0     0.0  221.808718   0.0  16.0   \n",
              "5956  89000  54576.0   92937.0  16.0    0.0     0.0  208.692070   0.0  15.0   \n",
              "5957  89200  54045.0   92924.0  15.0    0.0     0.0  212.279697   0.0  15.0   \n",
              "5958  89800  50370.0   91861.0  14.0    0.0     0.0  213.892709   0.0  16.0   \n",
              "5959  89900  48811.0   88934.0  15.0    0.0     0.0  219.601002   0.0  16.0   \n",
              "\n",
              "        DEBTINC  Mgr  Office  Other  ProfExe  Sales  Self  DebtCon  HomeImp  \\\n",
              "0      0.000000    0       0      1        0      0     0        0        1   \n",
              "1      0.000000    0       0      1        0      0     0        0        1   \n",
              "2      0.000000    0       0      1        0      0     0        0        1   \n",
              "3      0.000000    0       0      1        0      0     0        0        0   \n",
              "4      0.000000    0       1      0        0      0     0        0        1   \n",
              "...         ...  ...     ...    ...      ...    ...   ...      ...      ...   \n",
              "5955  36.112347    0       0      1        0      0     0        1        0   \n",
              "5956  35.859971    0       0      1        0      0     0        1        0   \n",
              "5957  35.556590    0       0      1        0      0     0        1        0   \n",
              "5958  34.340882    0       0      1        0      0     0        1        0   \n",
              "5959  34.571519    0       0      1        0      0     0        1        0   \n",
              "\n",
              "      Other reason  \n",
              "0                0  \n",
              "1                0  \n",
              "2                0  \n",
              "3                1  \n",
              "4                0  \n",
              "...            ...  \n",
              "5955             0  \n",
              "5956             0  \n",
              "5957             0  \n",
              "5958             0  \n",
              "5959             0  \n",
              "\n",
              "[5960 rows x 19 columns]"
            ],
            "text/html": "<div>\n<style scoped>\n    .dataframe tbody tr th:only-of-type {\n        vertical-align: middle;\n    }\n\n    .dataframe tbody tr th {\n        vertical-align: top;\n    }\n\n    .dataframe thead th {\n        text-align: right;\n    }\n</style>\n<table border=\"1\" class=\"dataframe\">\n  <thead>\n    <tr style=\"text-align: right;\">\n      <th></th>\n      <th>LOAN</th>\n      <th>MORTDUE</th>\n      <th>VALUE</th>\n      <th>YOJ</th>\n      <th>DEROG</th>\n      <th>DELINQ</th>\n      <th>CLAGE</th>\n      <th>NINQ</th>\n      <th>CLNO</th>\n      <th>DEBTINC</th>\n      <th>Mgr</th>\n      <th>Office</th>\n      <th>Other</th>\n      <th>ProfExe</th>\n      <th>Sales</th>\n      <th>Self</th>\n      <th>DebtCon</th>\n      <th>HomeImp</th>\n      <th>Other reason</th>\n    </tr>\n  </thead>\n  <tbody>\n    <tr>\n      <th>0</th>\n      <td>1100</td>\n      <td>25860.0</td>\n      <td>39025.0</td>\n      <td>10.5</td>\n      <td>0.0</td>\n      <td>0.0</td>\n      <td>94.366667</td>\n      <td>1.0</td>\n      <td>9.0</td>\n      <td>0.000000</td>\n      <td>0</td>\n      <td>0</td>\n      <td>1</td>\n      <td>0</td>\n      <td>0</td>\n      <td>0</td>\n      <td>0</td>\n      <td>1</td>\n      <td>0</td>\n    </tr>\n    <tr>\n      <th>1</th>\n      <td>1300</td>\n      <td>70053.0</td>\n      <td>68400.0</td>\n      <td>7.0</td>\n      <td>0.0</td>\n      <td>2.0</td>\n      <td>121.833333</td>\n      <td>0.0</td>\n      <td>14.0</td>\n      <td>0.000000</td>\n      <td>0</td>\n      <td>0</td>\n      <td>1</td>\n      <td>0</td>\n      <td>0</td>\n      <td>0</td>\n      <td>0</td>\n      <td>1</td>\n      <td>0</td>\n    </tr>\n    <tr>\n      <th>2</th>\n      <td>1500</td>\n      <td>13500.0</td>\n      <td>16700.0</td>\n      <td>4.0</td>\n      <td>0.0</td>\n      <td>0.0</td>\n      <td>149.466667</td>\n      <td>1.0</td>\n      <td>10.0</td>\n      <td>0.000000</td>\n      <td>0</td>\n      <td>0</td>\n      <td>1</td>\n      <td>0</td>\n      <td>0</td>\n      <td>0</td>\n      <td>0</td>\n      <td>1</td>\n      <td>0</td>\n    </tr>\n    <tr>\n      <th>3</th>\n      <td>1500</td>\n      <td>0.0</td>\n      <td>0.0</td>\n      <td>0.0</td>\n      <td>0.0</td>\n      <td>0.0</td>\n      <td>0.000000</td>\n      <td>0.0</td>\n      <td>0.0</td>\n      <td>0.000000</td>\n      <td>0</td>\n      <td>0</td>\n      <td>1</td>\n      <td>0</td>\n      <td>0</td>\n      <td>0</td>\n      <td>0</td>\n      <td>0</td>\n      <td>1</td>\n    </tr>\n    <tr>\n      <th>4</th>\n      <td>1700</td>\n      <td>97800.0</td>\n      <td>112000.0</td>\n      <td>3.0</td>\n      <td>0.0</td>\n      <td>0.0</td>\n      <td>93.333333</td>\n      <td>0.0</td>\n      <td>14.0</td>\n      <td>0.000000</td>\n      <td>0</td>\n      <td>1</td>\n      <td>0</td>\n      <td>0</td>\n      <td>0</td>\n      <td>0</td>\n      <td>0</td>\n      <td>1</td>\n      <td>0</td>\n    </tr>\n    <tr>\n      <th>...</th>\n      <td>...</td>\n      <td>...</td>\n      <td>...</td>\n      <td>...</td>\n      <td>...</td>\n      <td>...</td>\n      <td>...</td>\n      <td>...</td>\n      <td>...</td>\n      <td>...</td>\n      <td>...</td>\n      <td>...</td>\n      <td>...</td>\n      <td>...</td>\n      <td>...</td>\n      <td>...</td>\n      <td>...</td>\n      <td>...</td>\n      <td>...</td>\n    </tr>\n    <tr>\n      <th>5955</th>\n      <td>88900</td>\n      <td>57264.0</td>\n      <td>90185.0</td>\n      <td>16.0</td>\n      <td>0.0</td>\n      <td>0.0</td>\n      <td>221.808718</td>\n      <td>0.0</td>\n      <td>16.0</td>\n      <td>36.112347</td>\n      <td>0</td>\n      <td>0</td>\n      <td>1</td>\n      <td>0</td>\n      <td>0</td>\n      <td>0</td>\n      <td>1</td>\n      <td>0</td>\n      <td>0</td>\n    </tr>\n    <tr>\n      <th>5956</th>\n      <td>89000</td>\n      <td>54576.0</td>\n      <td>92937.0</td>\n      <td>16.0</td>\n      <td>0.0</td>\n      <td>0.0</td>\n      <td>208.692070</td>\n      <td>0.0</td>\n      <td>15.0</td>\n      <td>35.859971</td>\n      <td>0</td>\n      <td>0</td>\n      <td>1</td>\n      <td>0</td>\n      <td>0</td>\n      <td>0</td>\n      <td>1</td>\n      <td>0</td>\n      <td>0</td>\n    </tr>\n    <tr>\n      <th>5957</th>\n      <td>89200</td>\n      <td>54045.0</td>\n      <td>92924.0</td>\n      <td>15.0</td>\n      <td>0.0</td>\n      <td>0.0</td>\n      <td>212.279697</td>\n      <td>0.0</td>\n      <td>15.0</td>\n      <td>35.556590</td>\n      <td>0</td>\n      <td>0</td>\n      <td>1</td>\n      <td>0</td>\n      <td>0</td>\n      <td>0</td>\n      <td>1</td>\n      <td>0</td>\n      <td>0</td>\n    </tr>\n    <tr>\n      <th>5958</th>\n      <td>89800</td>\n      <td>50370.0</td>\n      <td>91861.0</td>\n      <td>14.0</td>\n      <td>0.0</td>\n      <td>0.0</td>\n      <td>213.892709</td>\n      <td>0.0</td>\n      <td>16.0</td>\n      <td>34.340882</td>\n      <td>0</td>\n      <td>0</td>\n      <td>1</td>\n      <td>0</td>\n      <td>0</td>\n      <td>0</td>\n      <td>1</td>\n      <td>0</td>\n      <td>0</td>\n    </tr>\n    <tr>\n      <th>5959</th>\n      <td>89900</td>\n      <td>48811.0</td>\n      <td>88934.0</td>\n      <td>15.0</td>\n      <td>0.0</td>\n      <td>0.0</td>\n      <td>219.601002</td>\n      <td>0.0</td>\n      <td>16.0</td>\n      <td>34.571519</td>\n      <td>0</td>\n      <td>0</td>\n      <td>1</td>\n      <td>0</td>\n      <td>0</td>\n      <td>0</td>\n      <td>1</td>\n      <td>0</td>\n      <td>0</td>\n    </tr>\n  </tbody>\n</table>\n<p>5960 rows × 19 columns</p>\n</div>"
          },
          "metadata": {},
          "execution_count": 44
        }
      ],
      "source": [
        "df"
      ]
    },
    {
      "source": [
        "Building the Model"
      ],
      "cell_type": "markdown",
      "metadata": {}
    },
    {
      "cell_type": "code",
      "execution_count": 45,
      "metadata": {},
      "outputs": [],
      "source": [
        "# Dividing the dataset into training and cross-validation\n",
        "x_train, x_test, y_train, y_test = train_test_split(df,y)"
      ]
    },
    {
      "cell_type": "code",
      "execution_count": 46,
      "metadata": {},
      "outputs": [
        {
          "output_type": "execute_result",
          "data": {
            "text/plain": [
              "DecisionTreeClassifier()"
            ]
          },
          "metadata": {},
          "execution_count": 46
        }
      ],
      "source": [
        "# Training Decision Tree Model\n",
        "dtree = DecisionTreeClassifier()\n",
        "dtree.fit(x_train,y_train)"
      ]
    },
    {
      "source": [
        "Testing the models on cross-validation dataset, and comparing with training dataset"
      ],
      "cell_type": "markdown",
      "metadata": {}
    },
    {
      "cell_type": "code",
      "execution_count": 52,
      "metadata": {},
      "outputs": [
        {
          "output_type": "stream",
          "name": "stdout",
          "text": [
            "Accuracy on Training Dataset :  1.0\nAccuracy on CV Dataset :  0.8617449664429531\n"
          ]
        }
      ],
      "source": [
        "print(\"Accuracy on Training Dataset : \",dtree.score(x_train,y_train))\n",
        "print(\"Accuracy on CV Dataset : \",dtree.score(x_test,y_test))"
      ]
    }
  ]
}